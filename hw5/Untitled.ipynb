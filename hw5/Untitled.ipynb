{
 "cells": [
  {
   "cell_type": "code",
   "execution_count": 1,
   "id": "ac8b5212-77df-4a0f-968d-eb08ce3c98af",
   "metadata": {},
   "outputs": [],
   "source": [
    "import os\n",
    "import requests\n",
    "import json\n",
    "import pandas as pd\n",
    "import seaborn as sns\n",
    "import numpy as np\n",
    "from dotenv import load_dotenv\n",
    "import alpaca_trade_api as tradeapi\n",
    "import yfinance as yf\n",
    "from MCForecastTools import MCSimulation\n",
    "%matplotlib inline"
   ]
  },
  {
   "cell_type": "code",
   "execution_count": 3,
   "id": "75609da1-2303-482e-8a6f-57a58d2293d7",
   "metadata": {},
   "outputs": [
    {
     "data": {
      "text/plain": [
       "True"
      ]
     },
     "execution_count": 3,
     "metadata": {},
     "output_type": "execute_result"
    }
   ],
   "source": [
    "load_dotenv(\"/Users/thunguyen/Documents/Fintech/hw5/hw.env\")"
   ]
  },
  {
   "cell_type": "code",
   "execution_count": 7,
   "id": "3a15df39-d976-4090-a92a-47526a63e168",
   "metadata": {},
   "outputs": [],
   "source": [
    "my_btc = 1.2\n",
    "my_eth= 5.3"
   ]
  },
  {
   "cell_type": "code",
   "execution_count": 8,
   "id": "3f03616c-5457-4476-a151-25083eae8d73",
   "metadata": {},
   "outputs": [],
   "source": [
    "btc_url = \"https://api.alternative.me/v2/ticker/Bitcoin/?convert=CAD\""
   ]
  },
  {
   "cell_type": "code",
   "execution_count": 10,
   "id": "e42b510e-62c1-426d-9a11-02f539150734",
   "metadata": {},
   "outputs": [
    {
     "name": "stdout",
     "output_type": "stream",
     "text": [
      "<Response [200]>\n"
     ]
    }
   ],
   "source": [
    "response_data = requests.get(btc_url)\n",
    "print(response_data)"
   ]
  },
  {
   "cell_type": "code",
   "execution_count": 11,
   "id": "ffea6cec-ecc2-4060-8cfb-a9f68d0d2178",
   "metadata": {
    "collapsed": true,
    "jupyter": {
     "outputs_hidden": true
    },
    "tags": []
   },
   "outputs": [
    {
     "name": "stdout",
     "output_type": "stream",
     "text": [
      "{\n",
      "    \"data\": {\n",
      "        \"1\": {\n",
      "            \"id\": 1,\n",
      "            \"name\": \"Bitcoin\",\n",
      "            \"symbol\": \"BTC\",\n",
      "            \"website_slug\": \"bitcoin\",\n",
      "            \"rank\": 1,\n",
      "            \"circulating_supply\": 19251068,\n",
      "            \"total_supply\": 19251068,\n",
      "            \"max_supply\": 21000000,\n",
      "            \"quotes\": {\n",
      "                \"USD\": {\n",
      "                    \"price\": 16718.03,\n",
      "                    \"volume_24h\": 12217005901,\n",
      "                    \"market_cap\": 321878610439,\n",
      "                    \"percentage_change_1h\": -0.074171336512506,\n",
      "                    \"percentage_change_24h\": -0.0967059654256601,\n",
      "                    \"percentage_change_7d\": -1.07724196008638,\n",
      "                    \"percent_change_1h\": -0.074171336512506,\n",
      "                    \"percent_change_24h\": -0.0967059654256601,\n",
      "                    \"percent_change_7d\": -1.07724196008638\n",
      "                },\n",
      "                \"CAD\": {\n",
      "                    \"price\": 22711.443755,\n",
      "                    \"volume_24h\": 16596802516.5085,\n",
      "                    \"market_cap\": 437272092281.382,\n",
      "                    \"percent_change_1h\": -0.074171336512506,\n",
      "                    \"percent_change_24h\": -0.0967059654256601,\n",
      "                    \"percent_change_7d\": -1.07724196008638\n",
      "                }\n",
      "            },\n",
      "            \"last_updated\": 1672749510\n",
      "        }\n",
      "    },\n",
      "    \"metadata\": {\n",
      "        \"timestamp\": 1672749510,\n",
      "        \"num_cryptocurrencies\": 3119,\n",
      "        \"error\": null\n",
      "    }\n",
      "}\n"
     ]
    }
   ],
   "source": [
    "response_content = response_data.content\n",
    "data = response_data.json()\n",
    "import json\n",
    "print(json.dumps(data, indent=4))"
   ]
  },
  {
   "cell_type": "code",
   "execution_count": 14,
   "id": "950fc5ec-2d99-4e65-8bcf-fe0afaab0b1c",
   "metadata": {},
   "outputs": [
    {
     "name": "stdout",
     "output_type": "stream",
     "text": [
      "<Response [200]>\n"
     ]
    }
   ],
   "source": [
    "eth_url = \"https://api.alternative.me/v2/ticker/Ethereum/?convert=CAD\"\n",
    "response_data = requests.get(eth_url)\n",
    "print(response_data)"
   ]
  },
  {
   "cell_type": "code",
   "execution_count": 15,
   "id": "a6718567-7433-4c6c-a07b-1b07104202ef",
   "metadata": {
    "collapsed": true,
    "jupyter": {
     "outputs_hidden": true
    },
    "tags": []
   },
   "outputs": [
    {
     "name": "stdout",
     "output_type": "stream",
     "text": [
      "{\n",
      "    \"data\": {\n",
      "        \"1027\": {\n",
      "            \"id\": 1027,\n",
      "            \"name\": \"Ethereum\",\n",
      "            \"symbol\": \"ETH\",\n",
      "            \"website_slug\": \"ethereum\",\n",
      "            \"rank\": 2,\n",
      "            \"circulating_supply\": 120525770,\n",
      "            \"total_supply\": 120525770,\n",
      "            \"max_supply\": 120525770,\n",
      "            \"quotes\": {\n",
      "                \"USD\": {\n",
      "                    \"price\": 1216.06,\n",
      "                    \"volume_24h\": 2870264941,\n",
      "                    \"market_cap\": 146542454121,\n",
      "                    \"percentage_change_1h\": -0.0169626593333357,\n",
      "                    \"percentage_change_24h\": -0.118995528586302,\n",
      "                    \"percentage_change_7d\": -0.831622383419558,\n",
      "                    \"percent_change_1h\": -0.0169626593333357,\n",
      "                    \"percent_change_24h\": -0.118995528586302,\n",
      "                    \"percent_change_7d\": -0.831622383419558\n",
      "                },\n",
      "                \"CAD\": {\n",
      "                    \"price\": 1652.01751,\n",
      "                    \"volume_24h\": 3899254922.3485,\n",
      "                    \"market_cap\": 199077923923.379,\n",
      "                    \"percent_change_1h\": -0.0169626593333357,\n",
      "                    \"percent_change_24h\": -0.118995528586302,\n",
      "                    \"percent_change_7d\": -0.831622383419558\n",
      "                }\n",
      "            },\n",
      "            \"last_updated\": 1672749546\n",
      "        }\n",
      "    },\n",
      "    \"metadata\": {\n",
      "        \"timestamp\": 1672749546,\n",
      "        \"num_cryptocurrencies\": 3119,\n",
      "        \"error\": null\n",
      "    }\n",
      "}\n"
     ]
    }
   ],
   "source": [
    "response_content = response_data.content\n",
    "data = response_data.json()\n",
    "import json\n",
    "print(json.dumps(data, indent=4))"
   ]
  },
  {
   "cell_type": "code",
   "execution_count": 58,
   "id": "a294ca9d-0f34-4fcd-a1aa-16462d3dd1bb",
   "metadata": {},
   "outputs": [],
   "source": [
    "api_key = os.getenv(\"NASDAQ_API_KEY\")\n",
    "alpaca_api_key = os.getenv(\"ALPACA_API_KEY\")\n",
    "alpaca_secret_key = os.getenv(\"ALPACA_SECRET_KEY\")"
   ]
  },
  {
   "cell_type": "code",
   "execution_count": 62,
   "id": "b72e8e47-f64d-46f8-b6bc-a53dcf8b1795",
   "metadata": {},
   "outputs": [
    {
     "name": "stdout",
     "output_type": "stream",
     "text": [
      "Alpaca Key type: <class 'str'>\n",
      "Alpaca Secret Key type: <class 'str'>\n"
     ]
    }
   ],
   "source": [
    "print(f\"Alpaca Key type: {type(alpaca_api_key)}\")\n",
    "print(f\"Alpaca Secret Key type: {type(alpaca_secret_key)}\")"
   ]
  },
  {
   "cell_type": "code",
   "execution_count": 68,
   "id": "7837885e-4c26-4f22-9876-8162e7e97256",
   "metadata": {},
   "outputs": [],
   "source": [
    "alpaca = tradeapi.REST(\n",
    "    alpaca_api_key,\n",
    "    alpaca_secret_key,\n",
    "    api_version=\"v2\")"
   ]
  },
  {
   "cell_type": "code",
   "execution_count": 70,
   "id": "6f43a36f-c9d3-4ad2-a926-1bb2ce5eacb8",
   "metadata": {},
   "outputs": [
    {
     "ename": "TypeError",
     "evalue": "get_bars() missing 1 required positional argument: 'timeframe'",
     "output_type": "error",
     "traceback": [
      "\u001b[0;31m---------------------------------------------------------------------------\u001b[0m",
      "\u001b[0;31mTypeError\u001b[0m                                 Traceback (most recent call last)",
      "\u001b[0;32m/var/folders/mm/n_wwqfpn5nl5p1qhlxr9v6qr0000gn/T/ipykernel_57796/3803794554.py\u001b[0m in \u001b[0;36m<module>\u001b[0;34m\u001b[0m\n\u001b[1;32m      3\u001b[0m \u001b[0mstart_date\u001b[0m \u001b[0;34m=\u001b[0m \u001b[0mpd\u001b[0m\u001b[0;34m.\u001b[0m\u001b[0mTimestamp\u001b[0m\u001b[0;34m(\u001b[0m\u001b[0;34m\"2020-05-01\"\u001b[0m\u001b[0;34m,\u001b[0m \u001b[0mtz\u001b[0m\u001b[0;34m=\u001b[0m\u001b[0;34m\"America/New_York\"\u001b[0m\u001b[0;34m)\u001b[0m\u001b[0;34m.\u001b[0m\u001b[0misoformat\u001b[0m\u001b[0;34m(\u001b[0m\u001b[0;34m)\u001b[0m\u001b[0;34m\u001b[0m\u001b[0;34m\u001b[0m\u001b[0m\n\u001b[1;32m      4\u001b[0m \u001b[0mend_date\u001b[0m \u001b[0;34m=\u001b[0m \u001b[0mpd\u001b[0m\u001b[0;34m.\u001b[0m\u001b[0mTimestamp\u001b[0m\u001b[0;34m(\u001b[0m\u001b[0;34m\"2021-05-01\"\u001b[0m\u001b[0;34m,\u001b[0m \u001b[0mtz\u001b[0m\u001b[0;34m=\u001b[0m\u001b[0;34m\"America/New_York\"\u001b[0m\u001b[0;34m)\u001b[0m\u001b[0;34m.\u001b[0m\u001b[0misoformat\u001b[0m\u001b[0;34m(\u001b[0m\u001b[0;34m)\u001b[0m\u001b[0;34m\u001b[0m\u001b[0;34m\u001b[0m\u001b[0m\n\u001b[0;32m----> 5\u001b[0;31m df_portfolio = api.get_bars(\n\u001b[0m\u001b[1;32m      6\u001b[0m     \u001b[0mtickers\u001b[0m\u001b[0;34m,\u001b[0m\u001b[0;34m\u001b[0m\u001b[0;34m\u001b[0m\u001b[0m\n\u001b[1;32m      7\u001b[0m     \u001b[0mtimeframe\u001b[0m\u001b[0;34m,\u001b[0m\u001b[0;34m\u001b[0m\u001b[0;34m\u001b[0m\u001b[0m\n",
      "\u001b[0;31mTypeError\u001b[0m: get_bars() missing 1 required positional argument: 'timeframe'"
     ]
    }
   ],
   "source": [
    "tickers = [\"AGG\", \"SPY\"]\n",
    "timeframe = \"1Day\"\n",
    "start_date = pd.Timestamp(\"2020-05-01\", tz=\"America/New_York\").isoformat()\n",
    "end_date = pd.Timestamp(\"2021-05-01\", tz=\"America/New_York\").isoformat()\n",
    "df_portfolio = api.get_bars(\n",
    "    tickers,\n",
    "    timeframe,\n",
    "    start = today,\n",
    "    end = today\n",
    ").df\n",
    "\n",
    "# Display sample data\n",
    "df_portfolio"
   ]
  },
  {
   "cell_type": "code",
   "execution_count": null,
   "id": "9d17b26a-61bb-45c8-85f3-8394cbaec4af",
   "metadata": {},
   "outputs": [],
   "source": []
  }
 ],
 "metadata": {
  "kernelspec": {
   "display_name": "Python 3 (ipykernel)",
   "language": "python",
   "name": "python3"
  },
  "language_info": {
   "codemirror_mode": {
    "name": "ipython",
    "version": 3
   },
   "file_extension": ".py",
   "mimetype": "text/x-python",
   "name": "python",
   "nbconvert_exporter": "python",
   "pygments_lexer": "ipython3",
   "version": "3.9.13"
  }
 },
 "nbformat": 4,
 "nbformat_minor": 5
}
