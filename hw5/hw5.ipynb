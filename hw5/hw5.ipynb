{
 "cells": [
  {
   "cell_type": "code",
   "execution_count": 4,
   "id": "24f3dc93-e0dc-4758-b5f9-46907e7bcd74",
   "metadata": {},
   "outputs": [],
   "source": [
    "import os\n",
    "import requests\n",
    "import json\n",
    "import pandas as pd\n",
    "import seaborn as sns\n",
    "import numpy as np\n",
    "from dotenv import load_dotenv\n",
    "import alpaca_trade_api as tradeapi\n",
    "import yfinance as yf\n",
    "from MCForecastTools import MCSimulation\n",
    "import pytz\n",
    "%matplotlib inline"
   ]
  },
  {
   "cell_type": "code",
   "execution_count": 148,
   "id": "cb0d9989-7298-455c-b0b2-74c4c5d4f5ea",
   "metadata": {},
   "outputs": [
    {
     "data": {
      "text/plain": [
       "True"
      ]
     },
     "execution_count": 148,
     "metadata": {},
     "output_type": "execute_result"
    }
   ],
   "source": [
    "load_dotenv(\"/Users/thunguyen/Documents/Fintech/hw5/hw.env\")"
   ]
  },
  {
   "cell_type": "code",
   "execution_count": 202,
   "id": "25265a8e-20be-438c-b7b9-7456b2f3465f",
   "metadata": {},
   "outputs": [],
   "source": [
    "my_btc = 1.2\n",
    "my_eth= 5.3"
   ]
  },
  {
   "cell_type": "code",
   "execution_count": 189,
   "id": "50afc735-e912-4337-9051-1dcd9c63187d",
   "metadata": {},
   "outputs": [],
   "source": [
    "btc_url = \"https://api.alternative.me/v2/ticker/Bitcoin/?convert=CAD\""
   ]
  },
  {
   "cell_type": "code",
   "execution_count": 203,
   "id": "95466bf2-e832-42d9-a4a2-55a0fe0df62b",
   "metadata": {},
   "outputs": [],
   "source": [
    "response_data = requests.get(btc_url)"
   ]
  },
  {
   "cell_type": "code",
   "execution_count": 191,
   "id": "83df7b2a-392f-4223-baed-8c853d6e795d",
   "metadata": {},
   "outputs": [
    {
     "name": "stdout",
     "output_type": "stream",
     "text": [
      "<Response [200]>\n"
     ]
    }
   ],
   "source": [
    "print(response_data)"
   ]
  },
  {
   "cell_type": "code",
   "execution_count": 192,
   "id": "4ad3093b-2a31-4dcd-84a8-2654292ad8b7",
   "metadata": {},
   "outputs": [],
   "source": [
    "response_content = response_data.content"
   ]
  },
  {
   "cell_type": "code",
   "execution_count": 193,
   "id": "47cf3681-1ce0-4082-a519-feca47137398",
   "metadata": {},
   "outputs": [],
   "source": [
    "data = response_data.json()"
   ]
  },
  {
   "cell_type": "code",
   "execution_count": 204,
   "id": "cf8a42e3-38e4-46b2-b646-c923c9bb7b3f",
   "metadata": {
    "collapsed": true,
    "jupyter": {
     "outputs_hidden": true
    },
    "tags": []
   },
   "outputs": [
    {
     "name": "stdout",
     "output_type": "stream",
     "text": [
      "{\n",
      "    \"1\": {\n",
      "        \"id\": 1,\n",
      "        \"name\": \"Bitcoin\",\n",
      "        \"symbol\": \"BTC\",\n",
      "        \"website_slug\": \"bitcoin\",\n",
      "        \"rank\": 1,\n",
      "        \"circulating_supply\": 19250862,\n",
      "        \"total_supply\": 19250862,\n",
      "        \"max_supply\": 21000000,\n",
      "        \"quotes\": {\n",
      "            \"USD\": {\n",
      "                \"price\": 16714.74,\n",
      "                \"volume_24h\": 12435802855,\n",
      "                \"market_cap\": 321820311841,\n",
      "                \"percentage_change_1h\": -0.10950389761976,\n",
      "                \"percentage_change_24h\": -0.0491534085818087,\n",
      "                \"percentage_change_7d\": -1.09668464797516,\n",
      "                \"percent_change_1h\": -0.10950389761976,\n",
      "                \"percent_change_24h\": -0.0491534085818087,\n",
      "                \"percent_change_7d\": -1.09668464797516\n",
      "            },\n",
      "            \"CAD\": {\n",
      "                \"price\": 22706.97429,\n",
      "                \"volume_24h\": 16894038178.5175,\n",
      "                \"market_cap\": 437192893635.999,\n",
      "                \"percent_change_1h\": -0.10950389761976,\n",
      "                \"percent_change_24h\": -0.0491534085818087,\n",
      "                \"percent_change_7d\": -1.09668464797516\n",
      "            }\n",
      "        },\n",
      "        \"last_updated\": 1672732497\n",
      "    }\n",
      "}\n"
     ]
    }
   ],
   "source": [
    " import json\n",
    "print(json.dumps(data, indent=4))"
   ]
  },
  {
   "cell_type": "code",
   "execution_count": 1,
   "id": "c031635f-59d4-4cf7-b53b-db53a305e171",
   "metadata": {},
   "outputs": [],
   "source": [
    "eth_url = \"https://api.alternative.me/v2/ticker/Ethereum/?convert=CAD\""
   ]
  },
  {
   "cell_type": "code",
   "execution_count": 7,
   "id": "787c6d7d-4775-43f2-ba33-84c9b2ca38ba",
   "metadata": {},
   "outputs": [
    {
     "name": "stdout",
     "output_type": "stream",
     "text": [
      "<Response [200]>\n"
     ]
    }
   ],
   "source": [
    "response_data = requests.get(eth_url)\n",
    "print(response_data)"
   ]
  },
  {
   "cell_type": "code",
   "execution_count": 9,
   "id": "26f5e43e-83bd-478e-8644-216e5242842a",
   "metadata": {
    "collapsed": true,
    "jupyter": {
     "outputs_hidden": true
    },
    "tags": []
   },
   "outputs": [
    {
     "name": "stdout",
     "output_type": "stream",
     "text": [
      "{\n",
      "    \"data\": {\n",
      "        \"1027\": {\n",
      "            \"id\": 1027,\n",
      "            \"name\": \"Ethereum\",\n",
      "            \"symbol\": \"ETH\",\n",
      "            \"website_slug\": \"ethereum\",\n",
      "            \"rank\": 2,\n",
      "            \"circulating_supply\": 120525770,\n",
      "            \"total_supply\": 120525770,\n",
      "            \"max_supply\": 120525770,\n",
      "            \"quotes\": {\n",
      "                \"USD\": {\n",
      "                    \"price\": 1215.89,\n",
      "                    \"volume_24h\": 2880543502,\n",
      "                    \"market_cap\": 146476458299,\n",
      "                    \"percentage_change_1h\": 0.01797846625133,\n",
      "                    \"percentage_change_24h\": -0.131103297059758,\n",
      "                    \"percentage_change_7d\": -0.845358586673455,\n",
      "                    \"percent_change_1h\": 0.01797846625133,\n",
      "                    \"percent_change_24h\": -0.131103297059758,\n",
      "                    \"percent_change_7d\": -0.845358586673455\n",
      "                },\n",
      "                \"CAD\": {\n",
      "                    \"price\": 1651.786565,\n",
      "                    \"volume_24h\": 3913218347.467,\n",
      "                    \"market_cap\": 198988268599.191,\n",
      "                    \"percent_change_1h\": 0.01797846625133,\n",
      "                    \"percent_change_24h\": -0.131103297059758,\n",
      "                    \"percent_change_7d\": -0.845358586673455\n",
      "                }\n",
      "            },\n",
      "            \"last_updated\": 1672748984\n",
      "        }\n",
      "    },\n",
      "    \"metadata\": {\n",
      "        \"timestamp\": 1672748984,\n",
      "        \"num_cryptocurrencies\": 3119,\n",
      "        \"error\": null\n",
      "    }\n",
      "}\n"
     ]
    }
   ],
   "source": [
    "response_content = response_data.content\n",
    "data = response_data.json()\n",
    "import json\n",
    "print(json.dumps(data, indent=4))"
   ]
  },
  {
   "cell_type": "code",
   "execution_count": 12,
   "id": "ee58e028-7e00-4dfa-b127-4fcb8e18e49a",
   "metadata": {},
   "outputs": [],
   "source": [
    "my_agg = 200\n",
    "my_spy = 50"
   ]
  },
  {
   "cell_type": "code",
   "execution_count": 14,
   "id": "8076b2d5-ce66-44b0-b9e3-4a980d6a5bd0",
   "metadata": {},
   "outputs": [
    {
     "name": "stdout",
     "output_type": "stream",
     "text": [
      "                                 Open        High         Low       Close  \\\n",
      "Date                                                                        \n",
      "2020-05-01 00:00:00-04:00  110.865463  110.988676  110.590597  110.770683   \n",
      "2020-05-04 00:00:00-04:00  110.789614  110.979173  110.770661  110.865440   \n",
      "2020-05-05 00:00:00-04:00  110.855970  110.865450  110.713797  110.780144   \n",
      "2020-05-06 00:00:00-04:00  110.363127  110.619033  110.230434  110.334694   \n",
      "2020-05-07 00:00:00-04:00  110.524234  110.675880  110.344148  110.675880   \n",
      "...                               ...         ...         ...         ...   \n",
      "2021-04-26 00:00:00-04:00  110.731819  110.789728  110.644966  110.644966   \n",
      "2021-04-27 00:00:00-04:00  111.108186  111.108186  110.374741  110.374741   \n",
      "2021-04-28 00:00:00-04:00  110.451953  110.471259  110.210687  110.432655   \n",
      "2021-04-29 00:00:00-04:00  110.152772  110.374741  110.104516  110.374741   \n",
      "2021-04-30 00:00:00-04:00  110.413340  110.519490  110.336133  110.490540   \n",
      "\n",
      "                            Volume  Dividends  Stock Splits  \n",
      "Date                                                         \n",
      "2020-05-01 00:00:00-04:00  6099500      0.236             0  \n",
      "2020-05-04 00:00:00-04:00  3684100      0.000             0  \n",
      "2020-05-05 00:00:00-04:00  4611500      0.000             0  \n",
      "2020-05-06 00:00:00-04:00  6394900      0.000             0  \n",
      "2020-05-07 00:00:00-04:00  3786700      0.000             0  \n",
      "...                            ...        ...           ...  \n",
      "2021-04-26 00:00:00-04:00  3480300      0.000             0  \n",
      "2021-04-27 00:00:00-04:00  3823300      0.000             0  \n",
      "2021-04-28 00:00:00-04:00  7078600      0.000             0  \n",
      "2021-04-29 00:00:00-04:00  6254100      0.000             0  \n",
      "2021-04-30 00:00:00-04:00  6469500      0.000             0  \n",
      "\n",
      "[252 rows x 7 columns]\n"
     ]
    }
   ],
   "source": [
    "import yfinance as yahooFinance\n",
    "import datetime\n",
    "startDate = datetime.datetime(2020, 5, 1)\n",
    "endDate = datetime.datetime(2021, 5, 1)\n",
    "GetAggInformation = yahooFinance.Ticker(\"AGG\")\n",
    "print(GetAggInformation.history(start=startDate,\n",
    "                                     end=endDate))"
   ]
  },
  {
   "cell_type": "code",
   "execution_count": 16,
   "id": "d479c4b1-6212-444a-9d08-2d569117d341",
   "metadata": {},
   "outputs": [
    {
     "name": "stdout",
     "output_type": "stream",
     "text": [
      "                                 Open        High         Low       Close  \\\n",
      "Date                                                                        \n",
      "2020-05-01 00:00:00-04:00  273.582144  278.712235  269.947926  271.165741   \n",
      "2020-05-04 00:00:00-04:00  269.200009  272.230119  267.656203  271.913696   \n",
      "2020-05-05 00:00:00-04:00  274.857509  277.360209  272.047926  274.425995   \n",
      "2020-05-06 00:00:00-04:00  276.199953  276.602672  272.115053  272.565735   \n",
      "2020-05-07 00:00:00-04:00  275.921866  277.868420  275.327356  275.854736   \n",
      "...                               ...         ...         ...         ...   \n",
      "2021-04-26 00:00:00-04:00  406.700052  407.459983  406.086256  406.865662   \n",
      "2021-04-27 00:00:00-04:00  407.177409  407.382028  405.589341  406.777954   \n",
      "2021-04-28 00:00:00-04:00  407.060466  408.229604  406.173875  406.661011   \n",
      "2021-04-29 00:00:00-04:00  409.505884  409.895586  405.725705  409.252563   \n",
      "2021-04-30 00:00:00-04:00  406.885125  407.771716  405.628306  406.563599   \n",
      "\n",
      "                              Volume  Dividends  Stock Splits  \n",
      "Date                                                           \n",
      "2020-05-01 00:00:00-04:00  125180000        0.0             0  \n",
      "2020-05-04 00:00:00-04:00   80873200        0.0             0  \n",
      "2020-05-05 00:00:00-04:00   79569900        0.0             0  \n",
      "2020-05-06 00:00:00-04:00   73632600        0.0             0  \n",
      "2020-05-07 00:00:00-04:00   75250400        0.0             0  \n",
      "...                              ...        ...           ...  \n",
      "2021-04-26 00:00:00-04:00   52182400        0.0             0  \n",
      "2021-04-27 00:00:00-04:00   51303100        0.0             0  \n",
      "2021-04-28 00:00:00-04:00   51238900        0.0             0  \n",
      "2021-04-29 00:00:00-04:00   78544300        0.0             0  \n",
      "2021-04-30 00:00:00-04:00   85527000        0.0             0  \n",
      "\n",
      "[252 rows x 7 columns]\n"
     ]
    }
   ],
   "source": [
    "import yfinance as yahooFinance\n",
    "import datetime\n",
    "startDate = datetime.datetime(2020, 5, 1)\n",
    "endDate = datetime.datetime(2021, 5, 1)\n",
    "GetSpyInformation = yahooFinance.Ticker(\"SPY\")\n",
    "print(GetSpyInformation.history(start=startDate,\n",
    "                                     end=endDate))"
   ]
  },
  {
   "cell_type": "code",
   "execution_count": 17,
   "id": "b33344ea-bf3e-4221-91ae-c03581c1212e",
   "metadata": {},
   "outputs": [
    {
     "name": "stdout",
     "output_type": "stream",
     "text": [
      "Current AGG closing price: $110.7\n",
      "Current SPY closing price: $271.16\n"
     ]
    }
   ],
   "source": [
    "agg_close_price = 110.7\n",
    "spy_close_price = 271.16\n",
    "print(f\"Current AGG closing price: ${agg_close_price}\")\n",
    "print(f\"Current SPY closing price: ${spy_close_price}\")"
   ]
  },
  {
   "cell_type": "code",
   "execution_count": 6,
   "id": "7e2d6a55-f1f2-4789-840c-c57125ea442c",
   "metadata": {},
   "outputs": [],
   "source": [
    "monthly_income = 12000"
   ]
  },
  {
   "cell_type": "code",
   "execution_count": 7,
   "id": "58e61381-0944-4de7-a724-863451d7617b",
   "metadata": {},
   "outputs": [
    {
     "data": {
      "text/html": [
       "<div>\n",
       "<style scoped>\n",
       "    .dataframe tbody tr th:only-of-type {\n",
       "        vertical-align: middle;\n",
       "    }\n",
       "\n",
       "    .dataframe tbody tr th {\n",
       "        vertical-align: top;\n",
       "    }\n",
       "\n",
       "    .dataframe thead th {\n",
       "        text-align: right;\n",
       "    }\n",
       "</style>\n",
       "<table border=\"1\" class=\"dataframe\">\n",
       "  <thead>\n",
       "    <tr style=\"text-align: right;\">\n",
       "      <th></th>\n",
       "      <th>amount</th>\n",
       "    </tr>\n",
       "  </thead>\n",
       "  <tbody>\n",
       "    <tr>\n",
       "      <th>crypto</th>\n",
       "      <td>106407.569394</td>\n",
       "    </tr>\n",
       "    <tr>\n",
       "      <th>shares</th>\n",
       "      <td>37516.500000</td>\n",
       "    </tr>\n",
       "  </tbody>\n",
       "</table>\n",
       "</div>"
      ],
      "text/plain": [
       "               amount\n",
       "crypto  106407.569394\n",
       "shares   37516.500000"
      ]
     },
     "execution_count": 7,
     "metadata": {},
     "output_type": "execute_result"
    }
   ],
   "source": [
    "saving_data = {\n",
    "    \"amount\": [106407.569394, 37516.500000]}\n",
    "tickers = [\"crypto\",\"shares\"]\n",
    "df_saving = pd.DataFrame(saving_data, index=tickers)\n",
    "df_saving"
   ]
  },
  {
   "cell_type": "code",
   "execution_count": 8,
   "id": "0d19faa1-3be6-49ce-b873-40bddcb21dc6",
   "metadata": {},
   "outputs": [
    {
     "data": {
      "text/plain": [
       "<AxesSubplot: title={'center': 'Composition of Personal Saving'}, ylabel='amount'>"
      ]
     },
     "execution_count": 8,
     "metadata": {},
     "output_type": "execute_result"
    },
    {
     "data": {
      "image/png": "[encoded data removed]",
      "text/plain": [
       "<Figure size 640x480 with 1 Axes>"
      ]
     },
     "metadata": {},
     "output_type": "display_data"
    }
   ],
   "source": [
    "df_saving.plot.pie(y=\"amount\", title=\"Composition of Personal Saving\")"
   ]
  },
  {
   "cell_type": "code",
   "execution_count": null,
   "id": "eccd070f-4d63-4d07-96c0-7e703c6062e0",
   "metadata": {},
   "outputs": [
    {
     "name": "stdout",
     "output_type": "stream",
     "text": [
      "[*********************100%***********************]  1 of 1 completed\n",
      "[*********************100%***********************]  1 of 1 completed\n",
      "                                 Open        High         Low       Close  \\\n",
      "Date                                                                        \n",
      "2016-05-02 00:00:00-04:00   94.577241   94.577241   94.389349   94.466217   \n",
      "2016-05-03 00:00:00-04:00   94.705372   94.756613   94.585806   94.637047   \n",
      "2016-05-04 00:00:00-04:00   94.722446   94.739524   94.594337   94.679741   \n",
      "2016-05-05 00:00:00-04:00   94.731000   94.935977   94.628519   94.918892   \n",
      "2016-05-06 00:00:00-04:00   94.901775   94.901775   94.773666   94.773666   \n",
      "...                               ...         ...         ...         ...   \n",
      "2021-04-26 00:00:00-04:00  110.731788  110.789697  110.644936  110.644936   \n",
      "2021-04-27 00:00:00-04:00  111.108194  111.108194  110.374748  110.374748   \n",
      "2021-04-28 00:00:00-04:00  110.451931  110.471236  110.210664  110.432632   \n",
      "2021-04-29 00:00:00-04:00  110.152780  110.374748  110.104523  110.374748   \n",
      "2021-04-30 00:00:00-04:00  110.413347  110.519498  110.336140  110.490547   \n",
      "\n",
      "                            Volume  Dividends  Stock Splits  \n",
      "Date                                                         \n",
      "2016-05-02 00:00:00-04:00  3553900      0.205             0  \n",
      "2016-05-03 00:00:00-04:00  3044900      0.000             0  \n",
      "2016-05-04 00:00:00-04:00  2920200      0.000             0  \n",
      "2016-05-05 00:00:00-04:00  3008100      0.000             0  \n",
      "2016-05-06 00:00:00-04:00  2718500      0.000             0  \n",
      "...                            ...        ...           ...  \n",
      "2021-04-26 00:00:00-04:00  3480300      0.000             0  \n",
      "2021-04-27 00:00:00-04:00  3823300      0.000             0  \n",
      "2021-04-28 00:00:00-04:00  7078600      0.000             0  \n",
      "2021-04-29 00:00:00-04:00  6254100      0.000             0  \n",
      "2021-04-30 00:00:00-04:00  6469500      0.000             0  \n",
      "\n",
      "[1259 rows x 7 columns]\n",
      "                                 Open        High         Low       Close  \\\n",
      "Date                                                                        \n",
      "2016-05-02 00:00:00-04:00  183.380361  184.497015  182.928384  184.310913   \n",
      "2016-05-03 00:00:00-04:00  183.025849  183.273994  181.926909  182.706802   \n",
      "2016-05-04 00:00:00-04:00  181.669892  182.432057  181.164730  181.687607   \n",
      "2016-05-05 00:00:00-04:00  182.175022  182.547241  181.209027  181.652145   \n",
      "2016-05-06 00:00:00-04:00  180.845691  182.361163  180.686174  182.316849   \n",
      "...                               ...         ...         ...         ...   \n",
      "2021-04-26 00:00:00-04:00  406.700022  407.459952  406.086226  406.865631   \n",
      "2021-04-27 00:00:00-04:00  407.177409  407.382028  405.589341  406.777954   \n",
      "2021-04-28 00:00:00-04:00  407.060435  408.229573  406.173844  406.660980   \n",
      "2021-04-29 00:00:00-04:00  409.505884  409.895586  405.725705  409.252563   \n",
      "2021-04-30 00:00:00-04:00  406.885125  407.771716  405.628306  406.563599   \n",
      "\n",
      "                              Volume  Dividends  Stock Splits  \n",
      "Date                                                           \n",
      "2016-05-02 00:00:00-04:00   62188000        0.0             0  \n",
      "2016-05-03 00:00:00-04:00  106422100        0.0             0  \n",
      "2016-05-04 00:00:00-04:00   92243800        0.0             0  \n",
      "2016-05-05 00:00:00-04:00   67619200        0.0             0  \n",
      "2016-05-06 00:00:00-04:00   89315000        0.0             0  \n",
      "...                              ...        ...           ...  \n",
      "2021-04-26 00:00:00-04:00   52182400        0.0             0  \n",
      "2021-04-27 00:00:00-04:00   51303100        0.0             0  \n",
      "2021-04-28 00:00:00-04:00   51238900        0.0             0  \n",
      "2021-04-29 00:00:00-04:00   78544300        0.0             0  \n",
      "2021-04-30 00:00:00-04:00   85527000        0.0             0  \n",
      "\n",
      "[1259 rows x 7 columns]\n"
     ]
    }
   ],
   "source": [
    "from pandas_datareader import data as pdr\n",
    "import yfinance as yf\n",
    "yf.pdr_override() \n",
    "data = pdr.get_data_yahoo(\"AGG\", start=\"2016-05-01\", end=\"2021-05-01\")\n",
    "data = pdr.get_data_yahoo(\"SPY\", start=\"2016-05-01\", end=\"2021-05-01\")\n",
    "GetAggInformation = yahooFinance.Ticker(\"AGG\")\n",
    "GetSpyInformation = yahooFinance.Ticker(\"SPY\")\n",
    "print(GetAggInformation.history(start=startDate,\n",
    "                                     end=endDate))\n",
    "print(GetSpyInformation.history(start=startDate,\n",
    "                                     end=endDate))"
   ]
  },
  {
   "cell_type": "code",
   "execution_count": 130,
   "id": "0b88946a-5a92-4724-90eb-1ff908b43525",
   "metadata": {},
   "outputs": [
    {
     "name": "stdout",
     "output_type": "stream",
     "text": [
      "[*********************100%***********************]  1 of 1 completed\n"
     ]
    },
    {
     "data": {
      "text/plain": [
       "pandas.core.frame.DataFrame"
      ]
     },
     "execution_count": 130,
     "metadata": {},
     "output_type": "execute_result"
    }
   ],
   "source": [
    "agg= yf.download(\"AGG\")\n",
    "type(agg)"
   ]
  },
  {
   "cell_type": "code",
   "execution_count": 131,
   "id": "14d0b9d4-c4cc-4abe-87fe-29c1f4c72911",
   "metadata": {},
   "outputs": [
    {
     "name": "stdout",
     "output_type": "stream",
     "text": [
      "[*********************100%***********************]  1 of 1 completed\n"
     ]
    },
    {
     "data": {
      "text/plain": [
       "pandas.core.frame.DataFrame"
      ]
     },
     "execution_count": 131,
     "metadata": {},
     "output_type": "execute_result"
    }
   ],
   "source": [
    "spy=yf.download(\"SPY\")\n",
    "type(spy)"
   ]
  },
  {
   "cell_type": "code",
   "execution_count": 20,
   "id": "559a421e-6d07-479a-a379-5070ce0bbab1",
   "metadata": {
    "tags": []
   },
   "outputs": [
    {
     "data": {
      "text/plain": [
       "\u001b[0;31mInit signature:\u001b[0m\n",
       "\u001b[0mMCSimulation\u001b[0m\u001b[0;34m(\u001b[0m\u001b[0;34m\u001b[0m\n",
       "\u001b[0;34m\u001b[0m    \u001b[0mportfolio_data\u001b[0m\u001b[0;34m,\u001b[0m\u001b[0;34m\u001b[0m\n",
       "\u001b[0;34m\u001b[0m    \u001b[0mweights\u001b[0m\u001b[0;34m=\u001b[0m\u001b[0;34m''\u001b[0m\u001b[0;34m,\u001b[0m\u001b[0;34m\u001b[0m\n",
       "\u001b[0;34m\u001b[0m    \u001b[0mnum_simulation\u001b[0m\u001b[0;34m=\u001b[0m\u001b[0;36m1000\u001b[0m\u001b[0;34m,\u001b[0m\u001b[0;34m\u001b[0m\n",
       "\u001b[0;34m\u001b[0m    \u001b[0mnum_trading_days\u001b[0m\u001b[0;34m=\u001b[0m\u001b[0;36m252\u001b[0m\u001b[0;34m,\u001b[0m\u001b[0;34m\u001b[0m\n",
       "\u001b[0;34m\u001b[0m\u001b[0;34m)\u001b[0m\u001b[0;34m\u001b[0m\u001b[0;34m\u001b[0m\u001b[0m\n",
       "\u001b[0;31mDocstring:\u001b[0m     \n",
       "A Python class for runnning Monte Carlo simulation on portfolio price data. \n",
       "\n",
       "...\n",
       "\n",
       "Attributes\n",
       "----------\n",
       "portfolio_data : pandas.DataFrame\n",
       "    portfolio dataframe\n",
       "weights: list(float)\n",
       "    portfolio investment breakdown\n",
       "nSim: int\n",
       "    number of samples in simulation\n",
       "nTrading: int\n",
       "    number of trading days to simulate\n",
       "simulated_return : pandas.DataFrame\n",
       "    Simulated data from Monte Carlo\n",
       "confidence_interval : pandas.Series\n",
       "    the 95% confidence intervals for simulated final cumulative returns\n",
       "    \n",
       "\u001b[0;31mInit docstring:\u001b[0m\n",
       "Constructs all the necessary attributes for the MCSimulation object.\n",
       "\n",
       "Parameters\n",
       "----------\n",
       "portfolio_data: pandas.DataFrame\n",
       "    DataFrame containing stock price information from Alpaca API\n",
       "weights: list(float)\n",
       "    A list fractions representing percentage of total investment per stock. DEFAULT: Equal distribution\n",
       "num_simulation: int\n",
       "    Number of simulation samples. DEFAULT: 1000 simulation samples\n",
       "num_trading_days: int\n",
       "    Number of trading days to simulate. DEFAULT: 252 days (1 year of business days)\n",
       "\u001b[0;31mFile:\u001b[0m           ~/Documents/Fintech/hw5/MCForecastTools.py\n",
       "\u001b[0;31mType:\u001b[0m           type\n",
       "\u001b[0;31mSubclasses:\u001b[0m     \n"
      ]
     },
     "metadata": {},
     "output_type": "display_data"
    }
   ],
   "source": [
    "?MCSimulation"
   ]
  },
  {
   "cell_type": "code",
   "execution_count": 100,
   "id": "9000d7f1-8782-4702-bc98-6941da87a909",
   "metadata": {},
   "outputs": [],
   "source": [
    "import pandas as pd\n",
    "import numpy as np\n",
    "import matplotlib.pyplot as plt\n",
    "import datetime as dt\n",
    "from pandas_datareader import data as pdr"
   ]
  },
  {
   "cell_type": "code",
   "execution_count": 132,
   "id": "b95024f7-59bf-4239-988a-28c3d93446d3",
   "metadata": {},
   "outputs": [
    {
     "ename": "NameError",
     "evalue": "name 'pandas' is not defined",
     "output_type": "error",
     "traceback": [
      "\u001b[0;31m---------------------------------------------------------------------------\u001b[0m",
      "\u001b[0;31mNameError\u001b[0m                                 Traceback (most recent call last)",
      "\u001b[0;32m/var/folders/mm/n_wwqfpn5nl5p1qhlxr9v6qr0000gn/T/ipykernel_57680/2592699850.py\u001b[0m in \u001b[0;36m<module>\u001b[0;34m\u001b[0m\n\u001b[1;32m      1\u001b[0m MC_thirtyyear = MCSimulation(\n\u001b[0;32m----> 2\u001b[0;31m     \u001b[0mportfolio_data\u001b[0m\u001b[0;34m=\u001b[0m \u001b[0mpandas\u001b[0m\u001b[0;34m.\u001b[0m\u001b[0mcore\u001b[0m\u001b[0;34m.\u001b[0m\u001b[0mframe\u001b[0m\u001b[0;34m.\u001b[0m\u001b[0mDataFrame\u001b[0m\u001b[0;34m,\u001b[0m\u001b[0;34m\u001b[0m\u001b[0;34m\u001b[0m\u001b[0m\n\u001b[0m\u001b[1;32m      3\u001b[0m     \u001b[0mweights\u001b[0m\u001b[0;34m=\u001b[0m\u001b[0;34m'[.40, .60]'\u001b[0m\u001b[0;34m,\u001b[0m\u001b[0;34m\u001b[0m\u001b[0;34m\u001b[0m\u001b[0m\n\u001b[1;32m      4\u001b[0m     \u001b[0mnum_simulation\u001b[0m \u001b[0;34m=\u001b[0m \u001b[0;36m500\u001b[0m\u001b[0;34m,\u001b[0m\u001b[0;34m\u001b[0m\u001b[0;34m\u001b[0m\u001b[0m\n\u001b[1;32m      5\u001b[0m     \u001b[0mnum_trading_days\u001b[0m \u001b[0;34m=\u001b[0m \u001b[0;36m252\u001b[0m\u001b[0;34m*\u001b[0m\u001b[0;36m30\u001b[0m\u001b[0;34m\u001b[0m\u001b[0;34m\u001b[0m\u001b[0m\n",
      "\u001b[0;31mNameError\u001b[0m: name 'pandas' is not defined"
     ]
    }
   ],
   "source": [
    "MC_thirtyyear = MCSimulation(\n",
    "    portfolio_data= pandas.core.frame.DataFrame,\n",
    "    weights='[.40, .60]',\n",
    "    num_simulation = 500,\n",
    "    num_trading_days = 252*30\n",
    ")\n",
    "MC_fiveyear.portfolio_data.head()"
   ]
  },
  {
   "cell_type": "code",
   "execution_count": null,
   "id": "17003da3-8cad-4549-b360-4a0e989f548b",
   "metadata": {},
   "outputs": [],
   "source": []
  }
 ],
 "metadata": {
  "kernelspec": {
   "display_name": "Python 3 (ipykernel)",
   "language": "python",
   "name": "python3"
  },
  "language_info": {
   "codemirror_mode": {
    "name": "ipython",
    "version": 3
   },
   "file_extension": ".py",
   "mimetype": "text/x-python",
   "name": "python",
   "nbconvert_exporter": "python",
   "pygments_lexer": "ipython3",
   "version": "3.9.13"
  }
 },
 "nbformat": 4,
 "nbformat_minor": 5
}
